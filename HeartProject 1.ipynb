{
 "cells": [
  {
   "cell_type": "code",
   "execution_count": 23,
   "id": "46629c18",
   "metadata": {
    "scrolled": false
   },
   "outputs": [
    {
     "data": {
      "text/plain": [
       "<AxesSubplot: >"
      ]
     },
     "execution_count": 23,
     "metadata": {},
     "output_type": "execute_result"
    },
    {
     "data": {
      "image/png": "[encoded data removed]",
      "text/plain": [
       "<Figure size 640x480 with 1 Axes>"
      ]
     },
     "metadata": {},
     "output_type": "display_data"
    }
   ],
   "source": [
    "import pandas as pd\n",
    "import seaborn as sns\n",
    "data=pd.read_csv('heart.csv')\n",
    "sns.boxplot(data,)"
   ]
  },
  {
   "cell_type": "code",
   "execution_count": 58,
   "id": "fb51418f",
   "metadata": {
    "scrolled": false
   },
   "outputs": [
    {
     "name": "stdout",
     "output_type": "stream",
     "text": [
      "(303, 14)\n"
     ]
    }
   ],
   "source": [
    "import numpy as np\n",
    "data=pd.read_csv('heart.csv')\n",
    "print(data.shape)\n",
    "data=data[np.abs(data-data.mean())<2.3*data.std()]\n",
    "data=data.dropna()"
   ]
  },
  {
   "cell_type": "code",
   "execution_count": 59,
   "id": "2eeb905a",
   "metadata": {
    "scrolled": false
   },
   "outputs": [
    {
     "data": {
      "text/html": [
       "<div>\n",
       "<style scoped>\n",
       "    .dataframe tbody tr th:only-of-type {\n",
       "        vertical-align: middle;\n",
       "    }\n",
       "\n",
       "    .dataframe tbody tr th {\n",
       "        vertical-align: top;\n",
       "    }\n",
       "\n",
       "    .dataframe thead th {\n",
       "        text-align: right;\n",
       "    }\n",
       "</style>\n",
       "<table border=\"1\" class=\"dataframe\">\n",
       "  <thead>\n",
       "    <tr style=\"text-align: right;\">\n",
       "      <th></th>\n",
       "      <th>age</th>\n",
       "      <th>sex</th>\n",
       "      <th>cp</th>\n",
       "      <th>trtbps</th>\n",
       "      <th>chol</th>\n",
       "      <th>fbs</th>\n",
       "      <th>restecg</th>\n",
       "      <th>thalachh</th>\n",
       "      <th>exng</th>\n",
       "      <th>oldpeak</th>\n",
       "      <th>slp</th>\n",
       "      <th>caa</th>\n",
       "      <th>thall</th>\n",
       "      <th>output</th>\n",
       "    </tr>\n",
       "  </thead>\n",
       "  <tbody>\n",
       "    <tr>\n",
       "      <th>count</th>\n",
       "      <td>230.000000</td>\n",
       "      <td>230.000000</td>\n",
       "      <td>230.000000</td>\n",
       "      <td>230.000000</td>\n",
       "      <td>230.000000</td>\n",
       "      <td>230.0</td>\n",
       "      <td>230.000000</td>\n",
       "      <td>230.000000</td>\n",
       "      <td>230.000000</td>\n",
       "      <td>230.000000</td>\n",
       "      <td>230.000000</td>\n",
       "      <td>230.000000</td>\n",
       "      <td>230.000000</td>\n",
       "      <td>230.000000</td>\n",
       "    </tr>\n",
       "    <tr>\n",
       "      <th>mean</th>\n",
       "      <td>53.586957</td>\n",
       "      <td>0.682609</td>\n",
       "      <td>0.947826</td>\n",
       "      <td>128.965217</td>\n",
       "      <td>242.873913</td>\n",
       "      <td>0.0</td>\n",
       "      <td>0.526087</td>\n",
       "      <td>150.769565</td>\n",
       "      <td>0.304348</td>\n",
       "      <td>0.926522</td>\n",
       "      <td>1.447826</td>\n",
       "      <td>0.573913</td>\n",
       "      <td>2.313043</td>\n",
       "      <td>0.569565</td>\n",
       "    </tr>\n",
       "    <tr>\n",
       "      <th>std</th>\n",
       "      <td>9.100545</td>\n",
       "      <td>0.466476</td>\n",
       "      <td>1.013821</td>\n",
       "      <td>15.552660</td>\n",
       "      <td>44.865317</td>\n",
       "      <td>0.0</td>\n",
       "      <td>0.500408</td>\n",
       "      <td>21.576186</td>\n",
       "      <td>0.461134</td>\n",
       "      <td>1.001720</td>\n",
       "      <td>0.579391</td>\n",
       "      <td>0.852029</td>\n",
       "      <td>0.566383</td>\n",
       "      <td>0.496217</td>\n",
       "    </tr>\n",
       "    <tr>\n",
       "      <th>min</th>\n",
       "      <td>34.000000</td>\n",
       "      <td>0.000000</td>\n",
       "      <td>0.000000</td>\n",
       "      <td>94.000000</td>\n",
       "      <td>131.000000</td>\n",
       "      <td>0.0</td>\n",
       "      <td>0.000000</td>\n",
       "      <td>97.000000</td>\n",
       "      <td>0.000000</td>\n",
       "      <td>0.000000</td>\n",
       "      <td>0.000000</td>\n",
       "      <td>0.000000</td>\n",
       "      <td>1.000000</td>\n",
       "      <td>0.000000</td>\n",
       "    </tr>\n",
       "    <tr>\n",
       "      <th>25%</th>\n",
       "      <td>46.000000</td>\n",
       "      <td>0.000000</td>\n",
       "      <td>0.000000</td>\n",
       "      <td>120.000000</td>\n",
       "      <td>211.000000</td>\n",
       "      <td>0.0</td>\n",
       "      <td>0.000000</td>\n",
       "      <td>136.500000</td>\n",
       "      <td>0.000000</td>\n",
       "      <td>0.000000</td>\n",
       "      <td>1.000000</td>\n",
       "      <td>0.000000</td>\n",
       "      <td>2.000000</td>\n",
       "      <td>0.000000</td>\n",
       "    </tr>\n",
       "    <tr>\n",
       "      <th>50%</th>\n",
       "      <td>54.000000</td>\n",
       "      <td>1.000000</td>\n",
       "      <td>1.000000</td>\n",
       "      <td>130.000000</td>\n",
       "      <td>239.500000</td>\n",
       "      <td>0.0</td>\n",
       "      <td>1.000000</td>\n",
       "      <td>154.000000</td>\n",
       "      <td>0.000000</td>\n",
       "      <td>0.600000</td>\n",
       "      <td>1.000000</td>\n",
       "      <td>0.000000</td>\n",
       "      <td>2.000000</td>\n",
       "      <td>1.000000</td>\n",
       "    </tr>\n",
       "    <tr>\n",
       "      <th>75%</th>\n",
       "      <td>60.000000</td>\n",
       "      <td>1.000000</td>\n",
       "      <td>2.000000</td>\n",
       "      <td>140.000000</td>\n",
       "      <td>269.750000</td>\n",
       "      <td>0.0</td>\n",
       "      <td>1.000000</td>\n",
       "      <td>168.000000</td>\n",
       "      <td>1.000000</td>\n",
       "      <td>1.575000</td>\n",
       "      <td>2.000000</td>\n",
       "      <td>1.000000</td>\n",
       "      <td>3.000000</td>\n",
       "      <td>1.000000</td>\n",
       "    </tr>\n",
       "    <tr>\n",
       "      <th>max</th>\n",
       "      <td>74.000000</td>\n",
       "      <td>1.000000</td>\n",
       "      <td>3.000000</td>\n",
       "      <td>170.000000</td>\n",
       "      <td>360.000000</td>\n",
       "      <td>0.0</td>\n",
       "      <td>1.000000</td>\n",
       "      <td>192.000000</td>\n",
       "      <td>1.000000</td>\n",
       "      <td>3.600000</td>\n",
       "      <td>2.000000</td>\n",
       "      <td>3.000000</td>\n",
       "      <td>3.000000</td>\n",
       "      <td>1.000000</td>\n",
       "    </tr>\n",
       "  </tbody>\n",
       "</table>\n",
       "</div>"
      ],
      "text/plain": [
       "              age         sex          cp      trtbps        chol    fbs  \\\n",
       "count  230.000000  230.000000  230.000000  230.000000  230.000000  230.0   \n",
       "mean    53.586957    0.682609    0.947826  128.965217  242.873913    0.0   \n",
       "std      9.100545    0.466476    1.013821   15.552660   44.865317    0.0   \n",
       "min     34.000000    0.000000    0.000000   94.000000  131.000000    0.0   \n",
       "25%     46.000000    0.000000    0.000000  120.000000  211.000000    0.0   \n",
       "50%     54.000000    1.000000    1.000000  130.000000  239.500000    0.0   \n",
       "75%     60.000000    1.000000    2.000000  140.000000  269.750000    0.0   \n",
       "max     74.000000    1.000000    3.000000  170.000000  360.000000    0.0   \n",
       "\n",
       "          restecg    thalachh        exng     oldpeak         slp         caa  \\\n",
       "count  230.000000  230.000000  230.000000  230.000000  230.000000  230.000000   \n",
       "mean     0.526087  150.769565    0.304348    0.926522    1.447826    0.573913   \n",
       "std      0.500408   21.576186    0.461134    1.001720    0.579391    0.852029   \n",
       "min      0.000000   97.000000    0.000000    0.000000    0.000000    0.000000   \n",
       "25%      0.000000  136.500000    0.000000    0.000000    1.000000    0.000000   \n",
       "50%      1.000000  154.000000    0.000000    0.600000    1.000000    0.000000   \n",
       "75%      1.000000  168.000000    1.000000    1.575000    2.000000    1.000000   \n",
       "max      1.000000  192.000000    1.000000    3.600000    2.000000    3.000000   \n",
       "\n",
       "            thall      output  \n",
       "count  230.000000  230.000000  \n",
       "mean     2.313043    0.569565  \n",
       "std      0.566383    0.496217  \n",
       "min      1.000000    0.000000  \n",
       "25%      2.000000    0.000000  \n",
       "50%      2.000000    1.000000  \n",
       "75%      3.000000    1.000000  \n",
       "max      3.000000    1.000000  "
      ]
     },
     "execution_count": 59,
     "metadata": {},
     "output_type": "execute_result"
    }
   ],
   "source": [
    "data.dropna()\n",
    "data.describe()"
   ]
  },
  {
   "cell_type": "code",
   "execution_count": 60,
   "id": "6384cc93",
   "metadata": {
    "scrolled": false
   },
   "outputs": [
    {
     "name": "stdout",
     "output_type": "stream",
     "text": [
      "<class 'pandas.core.frame.DataFrame'>\n",
      "Int64Index: 230 entries, 1 to 302\n",
      "Data columns (total 14 columns):\n",
      " #   Column    Non-Null Count  Dtype  \n",
      "---  ------    --------------  -----  \n",
      " 0   age       230 non-null    float64\n",
      " 1   sex       230 non-null    int64  \n",
      " 2   cp        230 non-null    int64  \n",
      " 3   trtbps    230 non-null    float64\n",
      " 4   chol      230 non-null    float64\n",
      " 5   fbs       230 non-null    float64\n",
      " 6   restecg   230 non-null    float64\n",
      " 7   thalachh  230 non-null    float64\n",
      " 8   exng      230 non-null    int64  \n",
      " 9   oldpeak   230 non-null    float64\n",
      " 10  slp       230 non-null    int64  \n",
      " 11  caa       230 non-null    float64\n",
      " 12  thall     230 non-null    float64\n",
      " 13  output    230 non-null    int64  \n",
      "dtypes: float64(9), int64(5)\n",
      "memory usage: 27.0 KB\n"
     ]
    }
   ],
   "source": [
    "data.info()"
   ]
  },
  {
   "cell_type": "code",
   "execution_count": 80,
   "id": "5385340f",
   "metadata": {
    "scrolled": true
   },
   "outputs": [],
   "source": [
    "from sklearn.model_selection import train_test_split\n",
    "X_train,X_test,y_train,y_test=train_test_split(data.drop('output',axis=1),data['output'])\n",
    "from sklearn.ensemble import ExtraTreesClassifier\n",
    "rf=ExtraTreesClassifier()\n",
    "rf=rf.fit(X_train,y_train)"
   ]
  },
  {
   "cell_type": "code",
   "execution_count": 81,
   "id": "0fe441be",
   "metadata": {},
   "outputs": [
    {
     "name": "stdout",
     "output_type": "stream",
     "text": [
      "              precision    recall  f1-score   support\n",
      "\n",
      "           0       0.92      0.85      0.88        27\n",
      "           1       0.88      0.94      0.91        31\n",
      "\n",
      "    accuracy                           0.90        58\n",
      "   macro avg       0.90      0.89      0.90        58\n",
      "weighted avg       0.90      0.90      0.90        58\n",
      "\n"
     ]
    }
   ],
   "source": [
    "from sklearn.metrics import classification_report\n",
    "print(classification_report(y_test,rf.predict(X_test)))"
   ]
  },
  {
   "cell_type": "code",
   "execution_count": null,
   "id": "89b24a3f",
   "metadata": {},
   "outputs": [],
   "source": []
  }
 ],
 "metadata": {
  "kernelspec": {
   "display_name": "Python 3 (ipykernel)",
   "language": "python",
   "name": "python3"
  },
  "language_info": {
   "codemirror_mode": {
    "name": "ipython",
    "version": 3
   },
   "file_extension": ".py",
   "mimetype": "text/x-python",
   "name": "python",
   "nbconvert_exporter": "python",
   "pygments_lexer": "ipython3",
   "version": "3.11.0"
  }
 },
 "nbformat": 4,
 "nbformat_minor": 5
}
